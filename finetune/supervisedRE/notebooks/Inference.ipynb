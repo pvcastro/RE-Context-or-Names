{
 "cells": [
  {
   "cell_type": "code",
   "execution_count": 1,
   "id": "35a3e466",
   "metadata": {},
   "outputs": [],
   "source": [
    "from pathlib import Path\n",
    "import torch\n",
    "import json\n",
    "from argparse import Namespace"
   ]
  },
  {
   "cell_type": "code",
   "execution_count": 2,
   "id": "13193d4e",
   "metadata": {},
   "outputs": [
    {
     "name": "stdout",
     "output_type": "stream",
     "text": [
      "/media/discoD/repositorios/RE-Context-or-Names/finetune/supervisedRE/code\n"
     ]
    }
   ],
   "source": [
    "cd ../code"
   ]
  },
  {
   "cell_type": "code",
   "execution_count": 3,
   "id": "406300f0",
   "metadata": {},
   "outputs": [],
   "source": [
    "from model import REModel"
   ]
  },
  {
   "cell_type": "code",
   "execution_count": 4,
   "id": "ed15137d",
   "metadata": {},
   "outputs": [
    {
     "name": "stdout",
     "output_type": "stream",
     "text": [
      "/media/discoD/repositorios/RE-Context-or-Names\n"
     ]
    }
   ],
   "source": [
    "cd ../../.."
   ]
  },
  {
   "cell_type": "code",
   "execution_count": 5,
   "id": "9101a93f",
   "metadata": {},
   "outputs": [],
   "source": [
    "from utils.utils import EntityMarker"
   ]
  },
  {
   "cell_type": "code",
   "execution_count": 6,
   "id": "756aaa8c",
   "metadata": {},
   "outputs": [],
   "source": [
    "rel2id_path = Path('finetune/supervisedRE/data/datalawyer/rel2id.json')"
   ]
  },
  {
   "cell_type": "code",
   "execution_count": 7,
   "id": "33e6adb9",
   "metadata": {},
   "outputs": [
    {
     "data": {
      "text/plain": [
       "5"
      ]
     },
     "execution_count": 7,
     "metadata": {},
     "output_type": "execute_result"
    }
   ],
   "source": [
    "rel2id = json.load(rel2id_path.open(mode='r', encoding='utf8'))\n",
    "rel_num = len(rel2id)\n",
    "rel_num"
   ]
  },
  {
   "cell_type": "code",
   "execution_count": 8,
   "id": "e31f152a",
   "metadata": {},
   "outputs": [
    {
     "data": {
      "text/plain": [
       "{'no_relation': 0, 'VALOR': 1, 'ATRIBUICAO': 2, 'DECISAO': 3, 'FUNCAO': 4}"
      ]
     },
     "execution_count": 8,
     "metadata": {},
     "output_type": "execute_result"
    }
   ],
   "source": [
    "rel2id"
   ]
  },
  {
   "cell_type": "code",
   "execution_count": 9,
   "id": "2f54227b",
   "metadata": {},
   "outputs": [],
   "source": [
    "args = Namespace()\n",
    "setattr(args, 'entity_marker', True)\n",
    "setattr(args, 'hidden_size', 768)\n",
    "setattr(args, 'rel_num', rel_num)\n",
    "setattr(args, 'model_name', 'neuralmind/bert-base-portuguese-cased')\n",
    "setattr(args, 'ckpt_to_load', Path('finetune/supervisedRE/save_dir/datalawyer/model_cp.th'))"
   ]
  },
  {
   "cell_type": "code",
   "execution_count": 10,
   "id": "26628993",
   "metadata": {},
   "outputs": [
    {
     "name": "stdout",
     "output_type": "stream",
     "text": [
      "********* load from finetune/supervisedRE/save_dir/datalawyer/model_cp.th ***********\n"
     ]
    }
   ],
   "source": [
    "model = REModel(args)"
   ]
  },
  {
   "cell_type": "code",
   "execution_count": 11,
   "id": "8b225e5a",
   "metadata": {},
   "outputs": [],
   "source": [
    "entityMarker = EntityMarker(args)"
   ]
  },
  {
   "cell_type": "code",
   "execution_count": 12,
   "id": "a45d5c04",
   "metadata": {},
   "outputs": [],
   "source": [
    "data = {\n",
    "    \"token\":[\"20\\u00aa\",\"Vara\",\"do\",\"Trabalho\",\"do\",\"Recife\",\"[unused99]\",\"AVENIDA\",\"MARECHAL\",\"MASCARENHAS\",\"DE\",\"MORAIS\",\",\",\"4631\",\",\",\"IMBIRIBEIRA\",\",\",\"RECIFE\",\"-\",\"PE\",\"-\",\"CEP\",\":\",\"51150\",\"-\",\"004\",\"[unused99]\",\"RTOrd\",\"0000026\",\"-\",\"86\",\".\",\"2016\",\".\",\"5\",\".\",\"06\",\".\",\"0020\",\"[unused99]\",\"AUTOR\",\":\",\"ANTONIO\",\"CARLOS\",\"PINHEIRO\"],\n",
    "    \"h\":{\"name\":\"ANTONIO CARLOS PINHEIRO\",\"pos\":[42,45],\"type\":\"PESSOA\"},\n",
    "    \"t\":{\"name\":\"AUTOR\",\"pos\":[40,41],\"type\":\"FUNCAO\"}\n",
    "}"
   ]
  },
  {
   "cell_type": "code",
   "execution_count": 13,
   "id": "d40ea990",
   "metadata": {},
   "outputs": [],
   "source": [
    "ids, ph, pt = entityMarker.tokenize(data[\"token\"], data['h']['pos'], data['t']['pos'])\n",
    "mask = len(ids) * [1]"
   ]
  },
  {
   "cell_type": "code",
   "execution_count": 14,
   "id": "c8ac9b10",
   "metadata": {},
   "outputs": [],
   "source": [
    "inputs = {\n",
    "    \"input_ids\": torch.tensor([ids], dtype=torch.int64, device=0),\n",
    "    \"mask\": torch.tensor([mask], dtype=torch.int64, device=0),\n",
    "    \"h_pos\": torch.tensor([ph], dtype=torch.int64, device=0),\n",
    "    \"t_pos\": torch.tensor([pt], dtype=torch.int64, device=0),\n",
    "    \"label\": None\n",
    "}"
   ]
  },
  {
   "cell_type": "code",
   "execution_count": 15,
   "id": "3e83a025",
   "metadata": {},
   "outputs": [
    {
     "data": {
      "text/plain": [
       "torch.Size([1, 89])"
      ]
     },
     "execution_count": 15,
     "metadata": {},
     "output_type": "execute_result"
    }
   ],
   "source": [
    "inputs['input_ids'].shape"
   ]
  },
  {
   "cell_type": "code",
   "execution_count": 16,
   "id": "f56f804a",
   "metadata": {},
   "outputs": [
    {
     "data": {
      "text/plain": [
       "torch.Size([1, 89])"
      ]
     },
     "execution_count": 16,
     "metadata": {},
     "output_type": "execute_result"
    }
   ],
   "source": [
    "inputs['mask'].shape"
   ]
  },
  {
   "cell_type": "code",
   "execution_count": 17,
   "id": "5ee27636",
   "metadata": {},
   "outputs": [],
   "source": [
    "with torch.no_grad():\n",
    "    model.training = False\n",
    "    model.eval()\n",
    "    model.cuda()\n",
    "    _, output = model(**inputs)"
   ]
  },
  {
   "cell_type": "code",
   "execution_count": 18,
   "id": "7a4dd25c",
   "metadata": {},
   "outputs": [
    {
     "data": {
      "text/plain": [
       "tensor([4], device='cuda:0')"
      ]
     },
     "execution_count": 18,
     "metadata": {},
     "output_type": "execute_result"
    }
   ],
   "source": [
    "output"
   ]
  },
  {
   "cell_type": "code",
   "execution_count": null,
   "id": "c1b19e0b",
   "metadata": {},
   "outputs": [],
   "source": []
  }
 ],
 "metadata": {
  "kernelspec": {
   "display_name": "rel-cp",
   "language": "python",
   "name": "rel-cp"
  },
  "language_info": {
   "codemirror_mode": {
    "name": "ipython",
    "version": 3
   },
   "file_extension": ".py",
   "mimetype": "text/x-python",
   "name": "python",
   "nbconvert_exporter": "python",
   "pygments_lexer": "ipython3",
   "version": "3.7.10"
  }
 },
 "nbformat": 4,
 "nbformat_minor": 5
}
